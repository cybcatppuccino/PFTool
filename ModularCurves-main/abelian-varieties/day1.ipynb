{
 "cells": [
  {
   "cell_type": "markdown",
   "id": "337544f7",
   "metadata": {},
   "source": [
    "Magma (+CHIMP) notebook to find curves whose Jacobians are isogeny factors of the Jacobians of modular curves.\n",
    "Via the period matrix, for now only for genus 2 curves where we have RM."
   ]
  },
  {
   "cell_type": "markdown",
   "id": "c88ad5b6",
   "metadata": {},
   "source": [
    "Example 1:\n",
    "https://www.lmfdb.org/ModularForm/GL2/Q/holomorphic/29/2/a/a/\n",
    "should give\n",
    "https://www.lmfdb.org/Genus2Curve/Q/841/a/841/1\n",
    "or something isogenous"
   ]
  },
  {
   "cell_type": "code",
   "execution_count": 1,
   "id": "8df28ecb",
   "metadata": {},
   "outputs": [
    {
     "name": "stdout",
     "output_type": "stream",
     "text": [
      "Modular abelian variety JZero(29) of dimension 2 and level 29 over Q\r\n"
     ]
    }
   ],
   "source": [
    "X  := JZero(29);\n",
    "X;"
   ]
  },
  {
   "cell_type": "code",
   "execution_count": 27,
   "id": "50f5ee12",
   "metadata": {},
   "outputs": [
    {
     "name": "stdout",
     "output_type": "stream",
     "text": [
      "Full KMatrixSpace of 4 by 2 matrices over C\r\n",
      "[-0.37654698724107982110198349672387118556352867851261276291164560608602746481049365 - 1.8013180138484217343811640890994647590687462484108594261459528492849284189084254*I -0.75309397448215964220396699344774237112705735702522552582329121217205492962098730 -1.2674667407397804936201219032113335846470358605888944793017616699373513186293437 - 1.1808874900527529913958134087839717838526979128417611497003284332282471408594111*I -1.7818395069974013450362768129749247981670143641525634327802321277026477076377000]\r\n",
      "[-0.51437276625762085141615490976359121351997850356366895347847045776529638900835545 - 1.1808874900527529913958134087839717838526979128417611497003284332282471408594111*I -1.0287455325152417028323098195271824270399570071273379069569409155305927780167109 -0.37654698724107982110198349672387118556352867851261276291164560608602746481049348 + 0.56045696625708424841046272846847880863664957727266287325470401717156586281039723*I 0.27565155803308206062834282607944005591289965010211238113364970335853784839572393] = [-1.2674667407397804936201219032113335846470358605888944793017616699373513186293437 - 1.1808874900527529913958134087839717838526979128417611497003284332282471408594111*I -1.7818395069974013450362768129749247981670143641525634327802321277026477076377000 -0.37654698724107982110198349672387118556352867851261276291164560608602746481049365 - 1.8013180138484217343811640890994647590687462484108594261459528492849284189084254*I -0.75309397448215964220396699344774237112705735702522552582329121217205492962098730]\r\n",
      "[-0.37654698724107982110198349672387118556352867851261276291164560608602746481049348 + 0.56045696625708424841046272846847880863664957727266287325470401717156586281039723*I 0.27565155803308206062834282607944005591289965010211238113364970335853784839572393 -0.51437276625762085141615490976359121351997850356366895347847045776529638900835545 - 1.1808874900527529913958134087839717838526979128417611497003284332282471408594111*I -1.0287455325152417028323098195271824270399570071273379069569409155305927780167109]\r\n"
     ]
    }
   ],
   "source": [
    "prec := 80;\n",
    "SetDefaultRealFieldPrecision(prec);\n",
    "C:=ComplexFieldExtra(prec);\n",
    "Q:=RationalsExtra(prec);\n",
    "Pi := Matrix(Periods(X, 10000)); // no control over precision really, instead use Eran's code\n",
    "print Parent(Pi);\n",
    "Pi := Transpose(ChangeRing(Pi, C));\n",
    "g := #Rows(Pi);\n",
    "P1 := Submatrix(Pi,1,1,g,g);\n",
    "P2 := Submatrix(Pi,1,g+1,g,g);\n",
    "Pi = HorizontalJoin(P2,P1);"
   ]
  },
  {
   "cell_type": "code",
   "execution_count": 50,
   "id": "f32f54f4",
   "metadata": {},
   "outputs": [
    {
     "name": "stdout",
     "output_type": "stream",
     "text": [
      "[ 0  1  1 -1]\r\n",
      "[-1  0  2  0]\r\n",
      "[-1 -2  0  3]\r\n",
      "[ 1  0 -3  0]\r\n"
     ]
    }
   ],
   "source": [
    "_,pol := SomePrincipalPolarization(Pi); pol;"
   ]
  },
  {
   "cell_type": "code",
   "execution_count": 51,
   "id": "411b24a7",
   "metadata": {},
   "outputs": [
    {
     "name": "stdout",
     "output_type": "stream",
     "text": [
      "[ 0  0  1  0]\r\n",
      "[ 0  0  0  1]\r\n",
      "[-1  0  0  0]\r\n",
      "[ 0 -1  0  0]\r\n",
      "\r\n",
      "[ 1  0  0  0]\r\n",
      "[ 2 -1  1  0]\r\n",
      "[ 0  1  0  0]\r\n",
      "[ 0  1  0  1]\r\n"
     ]
    }
   ],
   "source": [
    "E, F := FrobeniusFormAlternating(Matrix(Integers(),pol)); E,F;"
   ]
  },
  {
   "cell_type": "code",
   "execution_count": null,
   "id": "36e4ecad",
   "metadata": {},
   "outputs": [],
   "source": [
    "ReconstructCurve(Pi*Transpose(ChangeRing(F, C)), Q);"
   ]
  },
  {
   "cell_type": "code",
   "execution_count": 7,
   "id": "e142efdb",
   "metadata": {},
   "outputs": [
    {
     "name": "stdout",
     "output_type": "stream",
     "text": [
      "841\r\n"
     ]
    }
   ],
   "source": [
    "H:=$1;\n",
    "Conductor(H);"
   ]
  },
  {
   "cell_type": "code",
   "execution_count": 8,
   "id": "49c09f37",
   "metadata": {},
   "outputs": [
    {
     "name": "stdout",
     "output_type": "stream",
     "text": [
      "false\r\n"
     ]
    }
   ],
   "source": [
    "R<x> := PolynomialRing(Rationals()); C := HyperellipticCurve(R![2, 1, 3, 1, 1], R![0, 1, 1, 1]);\n",
    "IsIsomorphic(C, H);"
   ]
  },
  {
   "cell_type": "code",
   "execution_count": 9,
   "id": "420994e1",
   "metadata": {},
   "outputs": [
    {
     "name": "stdout",
     "output_type": "stream",
     "text": [
      "[ 5638216721875/841, 227094529500/841, 11771743200/841 ]\r\n",
      "[ 882735153125/20511149, 88236750/24389, 72750300/24389 ]\r\n"
     ]
    }
   ],
   "source": [
    "G2Invariants(C);\n",
    "G2Invariants(H);"
   ]
  },
  {
   "cell_type": "code",
   "execution_count": 11,
   "id": "800af313",
   "metadata": {},
   "outputs": [
    {
     "name": "stdout",
     "output_type": "stream",
     "text": [
      "true \r\n",
      "[-1  1  0  0]\r\n",
      "[ 0  0 -1 -1]\r\n",
      "[ 1  0 -1  1]\r\n",
      "[ 2  2  0  1]\r\n",
      "\r\n",
      "[1.000000000000000000000000000000000000000000000000000000000000000000000000000000000000000000000000000 1.000000000000000000000000000000000000000000000000000000000000000000000000000000000000000000000000000]\r\n",
      "[1.000000000000000000000000000000000000000000000000000000000000000000000000000000000000000000000000000 -1.209293413016251383386290767273591898985340982717775677524493470754803884390257739290551915930216393E-101]\r\n"
     ]
    }
   ],
   "source": [
    "IsIsogenousPeriodMatrices(PeriodMatrix(C), PeriodMatrix(H));"
   ]
  },
  {
   "cell_type": "code",
   "execution_count": 20,
   "id": "c8977285",
   "metadata": {},
   "outputs": [
    {
     "name": "stdout",
     "output_type": "stream",
     "text": []
    }
   ],
   "source": [
    "_,B,E:=IsIsogenousPeriodMatrices(PeriodMatrix(C), PeriodMatrix(H));"
   ]
  },
  {
   "cell_type": "code",
   "execution_count": 21,
   "id": "4942b9a9",
   "metadata": {},
   "outputs": [
    {
     "name": "stdout",
     "output_type": "stream",
     "text": [
      "7\r\n"
     ]
    }
   ],
   "source": [
    "Determinant(B);"
   ]
  },
  {
   "cell_type": "code",
   "execution_count": 17,
   "id": "c85f4f93",
   "metadata": {},
   "outputs": [
    {
     "name": "stdout",
     "output_type": "stream",
     "text": [
      "false \r\n",
      "[0 0 0 0]\r\n",
      "[0 0 0 0]\r\n",
      "[0 0 0 0]\r\n",
      "[0 0 0 0]\r\n",
      "\r\n",
      "[0.0000000000000000000000000000000000000000000000000000000000000000000000000000000000000000000000000000 0.0000000000000000000000000000000000000000000000000000000000000000000000000000000000000000000000000000]\r\n",
      "[0.0000000000000000000000000000000000000000000000000000000000000000000000000000000000000000000000000000 0.0000000000000000000000000000000000000000000000000000000000000000000000000000000000000000000000000000]\r\n"
     ]
    }
   ],
   "source": [
    "IsIsomorphicBigPeriodMatrices(PeriodMatrix(C), PeriodMatrix(H));"
   ]
  },
  {
   "cell_type": "code",
   "execution_count": 14,
   "id": "3281caaf",
   "metadata": {},
   "outputs": [
    {
     "name": "stdout",
     "output_type": "stream",
     "text": [
      "[ <29, 5> ]\r\n"
     ]
    }
   ],
   "source": [
    "Factorization(Integers()!Discriminant(H));"
   ]
  },
  {
   "cell_type": "code",
   "execution_count": 15,
   "id": "e06f21a0",
   "metadata": {},
   "outputs": [
    {
     "name": "stdout",
     "output_type": "stream",
     "text": [
      "[ <29, 2> ]\r\n"
     ]
    }
   ],
   "source": [
    "Factorization(Integers()!Discriminant(C));"
   ]
  },
  {
   "cell_type": "code",
   "execution_count": null,
   "id": "204c590c",
   "metadata": {},
   "outputs": [],
   "source": []
  }
 ],
 "metadata": {
  "kernelspec": {
   "display_name": "Magma",
   "language": "magma",
   "name": "magma"
  },
  "language_info": {
   "codemirror_mode": "magma",
   "file_extension": ".mgm",
   "mimetype": "text/x-sh",
   "name": "magma"
  },
  "varInspector": {
   "cols": {
    "lenName": 16,
    "lenType": 16,
    "lenVar": 40
   },
   "kernels_config": {
    "python": {
     "delete_cmd_postfix": "",
     "delete_cmd_prefix": "del ",
     "library": "var_list.py",
     "varRefreshCmd": "print(var_dic_list())"
    },
    "r": {
     "delete_cmd_postfix": ") ",
     "delete_cmd_prefix": "rm(",
     "library": "var_list.r",
     "varRefreshCmd": "cat(var_dic_list()) "
    }
   },
   "types_to_exclude": [
    "module",
    "function",
    "builtin_function_or_method",
    "instance",
    "_Feature"
   ],
   "window_display": false
  }
 },
 "nbformat": 4,
 "nbformat_minor": 5
}
